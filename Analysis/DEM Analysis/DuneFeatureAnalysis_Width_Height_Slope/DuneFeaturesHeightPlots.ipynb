{
 "cells": [
  {
   "cell_type": "code",
   "execution_count": 15,
   "metadata": {},
   "outputs": [],
   "source": [
    "import geopandas as gpd\n",
    "import seaborn as sns\n",
    "import matplotlib.pyplot as plt\n",
    "import numpy as np\n",
    "import os\n"
   ]
  },
  {
   "cell_type": "code",
   "execution_count": 16,
   "metadata": {},
   "outputs": [],
   "source": [
    "def plot_elevation_alongshore(data, file_path, dem_name):\n",
    "    dy = data.geometry.y.max() - data.geometry.y.min()\n",
    "    dx = data.geometry.x.max() - data.geometry.x.min()\n",
    "    # theta = np.arctan(dy / dx) * (180 / np.pi)\n",
    "    theta = 31\n",
    "    # print(f'Angle of the shore: {theta} degrees')\n",
    "    data[\"adjusted_x\"] = data[\"x\"] / np.cos(\n",
    "        np.radians(theta)\n",
    "    )  # Assuming 'x' is already defined in data\n",
    "    plt.figure(figsize=(10, 6))\n",
    "    sns.scatterplot(x=\"adjusted_x\", y=\"elevation\", data=data)\n",
    "    plt.xlabel(\"Alongshore Distance (m)\")\n",
    "    plt.ylabel(\"Elevation (m)\")\n",
    "    plt.title(f\"Elevation vs Adjusted Alongshore Distance - {dem_name}\")\n",
    "    plot_file_path = file_path.replace(\".geojson\", f\"_alongshore_{dem_name}.svg\")\n",
    "    plt.savefig(plot_file_path)\n",
    "    plt.close()\n",
    "\n",
    "\n",
    "def plot_elevation_pdf(data, file_path, dem_name):\n",
    "    plt.figure(figsize=(10, 6))\n",
    "    sns.histplot(data[\"elevation\"], kde=True, stat=\"density\")\n",
    "    plt.xlabel(\"Elevation (m)\")\n",
    "    plt.ylabel(\"Density\")\n",
    "    plt.title(f\"Normalized PDF of Elevations - {dem_name}\")\n",
    "    plot_file_path = file_path.replace(\".geojson\", f\"_pdf_{dem_name}.svg\")\n",
    "    plt.savefig(plot_file_path)\n",
    "    plt.close()\n",
    "\n",
    "\n",
    "def plot_3d_elevation_view(data, file_path, dem_name):\n",
    "    plt.figure(figsize=(10, 6))\n",
    "    sns.scatterplot(\n",
    "        x=\"x\", y=\"y\", size=\"elevation\", hue=\"elevation\", palette=\"coolwarm\", data=data\n",
    "    )\n",
    "    plt.xlabel(\"Alongshore Distance (m)\")\n",
    "    plt.ylabel(\"Cross-shore Distance (m)\")\n",
    "    plt.title(f\"3D View of Elevation (X, Y, Elevation) - {dem_name}\")\n",
    "    plot_file_path = file_path.replace(\".geojson\", f\"_3d_view_{dem_name}.svg\")\n",
    "    plt.savefig(plot_file_path)\n",
    "    plt.close()\n",
    "\n",
    "\n",
    "def plot_elevation_ecdf(data, file_path, dem_name):\n",
    "    plt.figure(figsize=(10, 6))\n",
    "    sorted_elevation = np.sort(data[\"elevation\"])\n",
    "    print(max(sorted_elevation))\n",
    "    ecdf = np.arange(1, len(sorted_elevation) + 1) / len(sorted_elevation)\n",
    "    plt.step(sorted_elevation, ecdf)\n",
    "    plt.xlabel(\"Elevation (m)\")\n",
    "    plt.ylabel(\"ECDF\")\n",
    "    plt.title(f\"Empirical Cumulative Distribution Function of Elevation - {dem_name}\")\n",
    "    plot_file_path = file_path.replace(\".geojson\", f\"_ecdf_{dem_name}.svg\")\n",
    "    plt.savefig(plot_file_path)\n",
    "    plt.close()\n"
   ]
  },
  {
   "cell_type": "code",
   "execution_count": 17,
   "metadata": {},
   "outputs": [],
   "source": [
    "def process_geojson_files(geojson_dict):\n",
    "    for file_path, dem_name in geojson_dict.items():\n",
    "        if os.path.exists(file_path):\n",
    "            geo_data = gpd.read_file(file_path)\n",
    "\n",
    "            # Assuming 'elevation' is directly a column in geo_data\n",
    "            # If 'x' and 'y' are not columns, calculate them from the geometry\n",
    "\n",
    "            geo_data[\"x\"] = (geo_data.geometry.x - geo_data.geometry.x.min()) * 1\n",
    "            geo_data[\"y\"] = (geo_data.geometry.y - geo_data.geometry.y.min()) * 1\n",
    "\n",
    "            # No need to extract 'elevation' from 'properties' as previously attempted\n",
    "            # Directly use the 'elevation' column\n",
    "\n",
    "            # plot_elevation_alongshore(geo_data, file_path, dem_name)\n",
    "            plot_elevation_pdf(geo_data, file_path, dem_name)\n",
    "            plot_3d_elevation_view(geo_data, file_path, dem_name)\n",
    "            plot_elevation_ecdf(geo_data, file_path, dem_name)\n",
    "            print(f\"Processed {dem_name}\")\n"
   ]
  },
  {
   "cell_type": "code",
   "execution_count": 18,
   "metadata": {},
   "outputs": [
    {
     "name": "stdout",
     "output_type": "stream",
     "text": [
      "3.0067625045776367\n",
      "Processed DEM 2001\n",
      "1.9588885307312012\n",
      "Processed DEM 2002\n",
      "2.229612112045288\n",
      "Processed DEM 2006\n",
      "2.2081236839294434\n",
      "Processed DEM 2009\n",
      "3.471081495285034\n",
      "Processed DEM 2016\n",
      "2.9809350967407227\n",
      "Processed DEM 2018\n",
      "2.989924669265747\n",
      "Processed DEM 2018_19 post Harvey\n"
     ]
    }
   ],
   "source": [
    "geojson_dict = {\n",
    "    \"max_elevations_DEM_2001.geojson\": \"DEM 2001\",\n",
    "    \"max_elevations_DEM_2002.geojson\": \"DEM 2002\",\n",
    "    \"max_elevations_DEM_2006.geojson\": \"DEM 2006\",\n",
    "    \"max_elevations_DEM_2009.geojson\": \"DEM 2009\",\n",
    "    \"max_elevations_DEM_2016.geojson\": \"DEM 2016\",\n",
    "    \"max_elevations_DEM_2018.geojson\": \"DEM 2018\",\n",
    "    \"max_elevations_DEM_2018_19_post_harvey.geojson\": \"DEM 2018_19 post Harvey\",\n",
    "}\n",
    "\n",
    "\n",
    "process_geojson_files(geojson_dict)\n"
   ]
  },
  {
   "cell_type": "code",
   "execution_count": null,
   "metadata": {},
   "outputs": [],
   "source": []
  }
 ],
 "metadata": {
  "kernelspec": {
   "display_name": "base",
   "language": "python",
   "name": "python3"
  },
  "language_info": {
   "codemirror_mode": {
    "name": "ipython",
    "version": 3
   },
   "file_extension": ".py",
   "mimetype": "text/x-python",
   "name": "python",
   "nbconvert_exporter": "python",
   "pygments_lexer": "ipython3",
   "version": "3.10.13"
  },
  "orig_nbformat": 4
 },
 "nbformat": 4,
 "nbformat_minor": 2
}
