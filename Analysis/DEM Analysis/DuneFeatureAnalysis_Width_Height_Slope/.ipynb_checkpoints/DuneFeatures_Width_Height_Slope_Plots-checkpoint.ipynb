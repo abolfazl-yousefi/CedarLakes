{
 "cells": [
  {
   "cell_type": "code",
   "execution_count": 26,
   "metadata": {},
   "outputs": [],
   "source": [
    "import pandas as pd\n",
    "import matplotlib.pyplot as plt\n",
    "import numpy as np\n",
    "import seaborn as sns\n",
    "\n",
    "plt.rcParams.update({\"font.size\": 20})\n",
    "\n",
    "\n",
    "def read_csv_to_df(file_path):\n",
    "    return pd.read_csv(file_path)\n",
    "\n",
    "def build_combined_df(rasters_dict):\n",
    "    combined_df = pd.DataFrame()\n",
    "    for file_path, dem_year in rasters_dict.items():\n",
    "        temp_df = pd.read_csv(f\"Results/duneFeatures/Data/duneCharacteristics_{dem_year.replace(' ', '_')}.csv\")\n",
    "        temp_df['DEM Year'] = dem_year\n",
    "        combined_df = pd.concat([combined_df, temp_df], ignore_index=True)\n",
    "    return combined_df\n",
    "\n",
    "def plot_boxplots(df, dem_year, file_path):\n",
    "    plt.figure(figsize=(10, 10))\n",
    "    # Set the main title for the figure here\n",
    "    plt.suptitle(f\"{dem_year}\", fontsize=24, y=1.05)\n",
    "    for i, column in enumerate(df.columns, 1):\n",
    "        plt.subplot(int(np.ceil(df.shape[1] / 2)), 2, i)\n",
    "        sns.boxplot(\n",
    "            y=df[column], width=0.5, color=\".8\", linecolor=\"#137\", linewidth=0.75\n",
    "        )\n",
    "        # Adjust each subplot for a tighter layout\n",
    "        plt.tight_layout()\n",
    "    plt.suptitle(f\"Dune Characteristics - {dem_year}\", fontsize=24)\n",
    "    plt.subplots_adjust(\n",
    "        top=0.92\n",
    "    )  # Adjust the top margin to make space for the suptitle\n",
    "    plt.savefig(f\"{file_path}{dem_year}_boxplots.png\")\n",
    "    plt.close()\n",
    "\n",
    "\n",
    "def plot_kdes(df, dem_year, file_path):\n",
    "    plt.figure(figsize=(10, 10))\n",
    "    for i, column in enumerate(df.columns, 1):\n",
    "        plt.subplot(int(np.ceil(df.shape[1] / 2)), 2, i)\n",
    "        sns.kdeplot(data=df, x=column)\n",
    "        plt.tight_layout()\n",
    "    plt.suptitle(f\"Dune Characteristics - {dem_year}\", fontsize=24)\n",
    "    plt.subplots_adjust(top=0.92)\n",
    "    plt.savefig(f\"{file_path}{dem_year}_kdes.png\")\n",
    "    plt.close()\n",
    "\n",
    "\n",
    "def plot_ecdfs(df, dem_year, file_path):\n",
    "    plt.figure(figsize=(10, 10))\n",
    "    for i, column in enumerate(df.columns, 1):\n",
    "        plt.subplot(int(np.ceil(df.shape[1] / 2)), 2, i)\n",
    "        sns.ecdfplot(data=df, x=column)\n",
    "        plt.tight_layout()\n",
    "    plt.suptitle(f\"Dune Characteristics - {dem_year}\", fontsize=24)\n",
    "    plt.subplots_adjust(top=0.92)\n",
    "    plt.savefig(f\"{file_path}{dem_year}_ecdfs.png\")\n",
    "    plt.close()\n",
    "\n",
    "\n",
    "def process_and_plot(file_path, dem_year):\n",
    "    df = read_csv_to_df(file_path)\n",
    "    base_path = \"Results/DuneFeatures_Width_Height_Slope/Plots/\"\n",
    "    plot_boxplots(df, dem_year, base_path)\n",
    "    plot_kdes(df, dem_year, base_path)\n",
    "    plot_ecdfs(df, dem_year, base_path)"
   ]
  },
  {
   "cell_type": "code",
   "execution_count": 27,
   "metadata": {},
   "outputs": [],
   "source": [
    "rasters_dict = {\n",
    "    \"Clipped(2001)_meter.tif\": \"DEM 2001\",\n",
    "    \"Clipped(2002)_meter.tif\": \"DEM 2002\",\n",
    "    \"Clipped(2006)_meter.tif\": \"DEM 2006\",\n",
    "    \"Clipped(2009)_meter.tif\": \"DEM 2009\",\n",
    "    \"Clipped(2016)_meter.tif\": \"DEM 2016\",\n",
    "    \"Clipped(2018)_meter.tif\": \"DEM 2018\",\n",
    "    \"(Clipped)2018_19_post_harvey_meter.tif\": \"DEM 2018_19_post_harvey\",\n",
    "}\n"
   ]
  },
  {
   "cell_type": "code",
   "execution_count": 28,
   "metadata": {},
   "outputs": [],
   "source": [
    "for _, dem_year in rasters_dict.items():\n",
    "    csv_path = f\"Results/DuneFeatures_Width_Height_Slope/Data/duneCharacteristics_{dem_year.replace(' ', '_')}.csv\"\n",
    "    process_and_plot(csv_path, dem_year)"
   ]
  },
  {
   "cell_type": "code",
   "execution_count": null,
   "metadata": {},
   "outputs": [],
   "source": []
  }
 ],
 "metadata": {
  "kernelspec": {
   "display_name": "base",
   "language": "python",
   "name": "python3"
  },
  "language_info": {
   "codemirror_mode": {
    "name": "ipython",
    "version": 3
   },
   "file_extension": ".py",
   "mimetype": "text/x-python",
   "name": "python",
   "nbconvert_exporter": "python",
   "pygments_lexer": "ipython3",
   "version": "3.10.13"
  },
  "orig_nbformat": 4
 },
 "nbformat": 4,
 "nbformat_minor": 2
}
