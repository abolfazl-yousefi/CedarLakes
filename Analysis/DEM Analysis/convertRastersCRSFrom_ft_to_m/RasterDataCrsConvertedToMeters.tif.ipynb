{
 "cells": [
  {
   "cell_type": "code",
   "execution_count": 10,
   "metadata": {},
   "outputs": [],
   "source": [
    "import rasterio\n",
    "from rasterio.warp import calculate_default_transform, reproject\n",
    "from rasterio.enums import Resampling\n",
    "\n",
    "\n",
    "rasters_list = [\n",
    "                'Clipped(2001)_meter.tif',\n",
    "                'Clipped(2002)_meter.tif',\n",
    "                'Clipped(2006)_meter.tif',\n",
    "                'Clipped(2009)_meter.tif',\n",
    "                'Clipped(2016)_meter.tif',\n",
    "                'Clipped(2018)_meter.tif',\n",
    "                '(Clipped)2018_19_post_harvey_meter.tif',\n",
    "                ]\n",
    "\n",
    "\n",
    "\n",
    "def convert_crs_to_meters(raster_name, dst_crs='EPSG:32139'):\n",
    "    with rasterio.open(raster_name) as src:\n",
    "        transform, width, height = calculate_default_transform(\n",
    "            src.crs, dst_crs, src.width, src.height, *src.bounds)\n",
    "        kwargs = src.meta.copy()\n",
    "        kwargs.update({\n",
    "            'crs': dst_crs,\n",
    "            'transform': transform,\n",
    "            'width': width,\n",
    "            'height': height,\n",
    "            'driver': 'GTiff'  # Specify GeoTIFF driver\n",
    "        })\n",
    "\n",
    "        output_raster_name = raster_name  # Ensure output is a TIFF file\n",
    "        with rasterio.open(output_raster_name, 'w', **kwargs) as dst:\n",
    "            for i in range(1, src.count + 1):\n",
    "                reproject(\n",
    "                    source=rasterio.band(src, i),\n",
    "                    destination=rasterio.band(dst, i),\n",
    "                    src_transform=src.transform,\n",
    "                    src_crs=src.crs,\n",
    "                    dst_transform=transform,\n",
    "                    dst_crs=dst_crs,\n",
    "                    resampling=Resampling.nearest)\n"
   ]
  },
  {
   "cell_type": "code",
   "execution_count": 13,
   "metadata": {},
   "outputs": [],
   "source": [
    "for raster in rasters_list:\n",
    "    convert_crs_to_meters(raster_name=raster)"
   ]
  },
  {
   "cell_type": "code",
   "execution_count": null,
   "metadata": {},
   "outputs": [],
   "source": []
  }
 ],
 "metadata": {
  "kernelspec": {
   "display_name": "base",
   "language": "python",
   "name": "python3"
  },
  "language_info": {
   "codemirror_mode": {
    "name": "ipython",
    "version": 3
   },
   "file_extension": ".py",
   "mimetype": "text/x-python",
   "name": "python",
   "nbconvert_exporter": "python",
   "pygments_lexer": "ipython3",
   "version": "3.10.13"
  },
  "orig_nbformat": 4
 },
 "nbformat": 4,
 "nbformat_minor": 2
}
