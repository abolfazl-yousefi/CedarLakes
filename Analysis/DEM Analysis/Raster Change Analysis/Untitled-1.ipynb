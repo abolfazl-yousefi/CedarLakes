{
 "cells": [
  {
   "cell_type": "code",
   "execution_count": 1,
   "metadata": {},
   "outputs": [],
   "source": [
    "import rasterio\n",
    "import numpy as np\n",
    "import matplotlib.pyplot as plt\n",
    "from rasterio.warp import reproject, Resampling\n",
    "import matplotlib.patches as mpatches\n",
    "import geopandas as gpd\n",
    "from rasterio.mask import mask\n",
    "import shapely.geometry\n",
    "from itertools import combinations\n",
    "import warnings\n",
    "from rasterio.plot import show\n",
    "from affine import Affine\n",
    "\n",
    "\n",
    "warnings.filterwarnings(\"ignore\")\n",
    "import seaborn as sns\n",
    "import pandas as pd\n",
    "import matplotlib.ticker as ticker\n",
    "import matplotlib.colors as mcolors\n",
    "from datetime import datetime\n",
    "import matplotlib.transforms as mtransforms\n",
    "\n",
    "plt.rcParams.update({\"font.size\": 14})\n"
   ]
  },
  {
   "cell_type": "code",
   "execution_count": 2,
   "metadata": {},
   "outputs": [],
   "source": [
    "bbox_geojson = {\n",
    "    \"type\": \"Polygon\",\n",
    "    \"coordinates\": [\n",
    "        [\n",
    "            [-95.514107383931105, 28.837294991608498],\n",
    "            [-95.542191067157702, 28.82310160914],\n",
    "            [-95.533023536824004, 28.807894014576299],\n",
    "            [-95.5039012207138, 28.822751403692301],\n",
    "            [-95.514107383931105, 28.837294991608498],\n",
    "        ]\n",
    "    ],\n",
    "}\n"
   ]
  },
  {
   "cell_type": "code",
   "execution_count": 3,
   "metadata": {},
   "outputs": [],
   "source": [
    "NAVD88toMSL = -0.09\n",
    "\n",
    "def clip_raster(filepath, bbox_geojson):\n",
    "    bbox_geom = gpd.GeoDataFrame.from_features(\n",
    "        [{\"type\": \"Feature\", \"properties\": {}, \"geometry\": bbox_geojson}],\n",
    "        crs=\"EPSG:4326\",\n",
    "    )\n",
    "    with rasterio.open(filepath) as src:\n",
    "        src_crs = src.crs if src.crs else \"EPSG:4326\"\n",
    "        bbox_geom = bbox_geom.to_crs(crs=src_crs)\n",
    "        intersection = bbox_geom.unary_union.intersection(\n",
    "            shapely.geometry.box(*src.bounds)\n",
    "        )\n",
    "        if not intersection.is_empty:\n",
    "            out_image, out_transform = mask(src, shapes=[intersection], crop=True)\n",
    "            \n",
    "            out_image = out_image + NAVD88toMSL\n",
    "            out_image[out_image < -1000] = np.nan\n",
    "            out_meta = src.meta.copy()\n",
    "            out_meta.update(\n",
    "                {\n",
    "                    \"driver\": \"GTiff\",\n",
    "                    \"height\": out_image.shape[1],\n",
    "                    \"width\": out_image.shape[2],\n",
    "                    \"transform\": out_transform,\n",
    "                    \"nodata\": np.nan,\n",
    "                }\n",
    "            )\n",
    "            \n",
    "\n",
    "            return out_image.squeeze(), out_transform, out_meta\n",
    "    return None, None, None\n"
   ]
  },
  {
   "cell_type": "code",
   "execution_count": 4,
   "metadata": {},
   "outputs": [],
   "source": [
    "def rotate_image(\n",
    "    image, transform, meta, angle, shift_x=0, shift_y=0, adj_width=0, adj_height=0\n",
    "):\n",
    "\n",
    "    src_transform = transform\n",
    "    rotate = Affine.rotation(angle)\n",
    "    trans_x = Affine.translation(shift_x, 0)\n",
    "    trans_y = Affine.translation(0, -shift_y)\n",
    "    dst_transform = src_transform * rotate * trans_x * trans_y\n",
    "\n",
    "    y, x = image.shape\n",
    "    dst_height = int(y + adj_height)\n",
    "    dst_width = int(x + adj_width)\n",
    "\n",
    "    dst_image = np.empty(\n",
    "        shape=(image.shape[0], dst_height, dst_width), dtype=image.dtype\n",
    "    )\n",
    "\n",
    "    meta.update(\n",
    "        {\n",
    "            \"transform\": dst_transform,\n",
    "            \"height\": dst_height,\n",
    "            \"width\": dst_width,\n",
    "            \"nodata\": np.nan,\n",
    "        }\n",
    "    )\n",
    "\n",
    "    reproject(\n",
    "        source=image,\n",
    "        destination=dst_image,\n",
    "        src_transform=src_transform,\n",
    "        dst_transform=dst_transform,\n",
    "        src_crs=meta[\"crs\"],\n",
    "        dst_crs=meta[\"crs\"],\n",
    "        resampling=Resampling.nearest,\n",
    "        src_nodata=meta.get(\"nodata\"),\n",
    "        dst_nodata=np.nan,\n",
    "    )\n",
    "\n",
    "    # Find the bounding box where data exists\n",
    "    valid_data_positions = np.where(~np.isnan(dst_image))\n",
    "    ymin, xmin = valid_data_positions[1].min(), valid_data_positions[2].min()\n",
    "    ymax, xmax = valid_data_positions[1].max(), valid_data_positions[2].max()\n",
    "\n",
    "    # Clip the image to the bounding box\n",
    "    dst_image_clipped = dst_image[:, ymin : ymax + 1, xmin : xmax + 1]\n",
    "    plt.imshow(dst_image_clipped[0], cmap=\"gray\")\n",
    "    plt.title(\"Rotated and Clipped Image\")\n",
    "    plt.show()\n",
    "\n",
    "    # Update metadata for the clipped image\n",
    "    new_height, new_width = dst_image_clipped.shape[1], dst_image_clipped.shape[2]\n",
    "    new_transform = dst_transform * Affine.translation(xmin, ymin)\n",
    "    meta.update(\n",
    "        {\n",
    "            \"transform\": new_transform,\n",
    "            \"height\": new_height,\n",
    "            \"width\": new_width,\n",
    "        }\n",
    "    )\n",
    "\n",
    "    return dst_image_clipped, new_transform, meta\n"
   ]
  },
  {
   "cell_type": "code",
   "execution_count": 5,
   "metadata": {},
   "outputs": [
    {
     "data": {
      "image/png": "[encoded data removed]",
      "text/plain": [
       "<Figure size 640x480 with 1 Axes>"
      ]
     },
     "metadata": {},
     "output_type": "display_data"
    },
    {
     "data": {
      "text/plain": [
       "<Axes: >"
      ]
     },
     "execution_count": 5,
     "metadata": {},
     "output_type": "execute_result"
    }
   ],
   "source": [
    "filepath = \"Clipped(2001)_meter.tif\"\n",
    "out_image, out_transform, out_meta = clip_raster(filepath, bbox_geojson)\n",
    "show(out_image)"
   ]
  },
  {
   "cell_type": "code",
   "execution_count": 67,
   "metadata": {},
   "outputs": [],
   "source": [
    "angle = 34\n",
    "shift_x = -1000\n",
    "shift_y = 0\n",
    "adj_width = 2000\n",
    "adj_height = 500\n",
    "\n",
    "out_image, out_transform, out_meta = rotate_image(\n",
    "    out_image, out_transform, out_meta, angle, shift_x=0, shift_y=0, adj_width=0, adj_height=0\n",
    ")\n"
   ]
  },
  {
   "cell_type": "code",
   "execution_count": 12,
   "metadata": {},
   "outputs": [],
   "source": [
    "transform = out_transform\n",
    "image = out_image\n",
    "meta = out_meta\n",
    "angle = 34\n",
    "angle = 34\n",
    "shift_x = -1000\n",
    "shift_y = 0\n",
    "adj_width = 2000\n",
    "adj_height = 500"
   ]
  },
  {
   "cell_type": "code",
   "execution_count": 13,
   "metadata": {},
   "outputs": [],
   "source": [
    "src_transform = transform\n",
    "rotate = Affine.rotation(angle)\n",
    "trans_x = Affine.translation(shift_x, 0)\n",
    "trans_y = Affine.translation(0, -shift_y)\n",
    "dst_transform = src_transform * rotate * trans_x * trans_y\n",
    "\n",
    "y, x = image.shape\n",
    "dst_height = int(y + adj_height)\n",
    "dst_width = int(x + adj_width)\n",
    "\n",
    "dst_image = np.empty(\n",
    "    shape=(image.shape[0], dst_height, dst_width), dtype=image.dtype\n",
    ")\n",
    "\n",
    "meta.update(\n",
    "    {\n",
    "        \"transform\": dst_transform,\n",
    "        \"height\": dst_height,\n",
    "        \"width\": dst_width,\n",
    "        \"nodata\": np.nan,\n",
    "    }\n",
    ")"
   ]
  },
  {
   "cell_type": "code",
   "execution_count": 6,
   "metadata": {},
   "outputs": [
    {
     "data": {
      "text/plain": [
       "Affine(1.8300754567669086, 0.0, 1167769.7071833706,\n",
       "       0.0, -1.8300754567669086, 2918232.799149935)"
      ]
     },
     "execution_count": 6,
     "metadata": {},
     "output_type": "execute_result"
    }
   ],
   "source": [
    "out_transform"
   ]
  },
  {
   "cell_type": "code",
   "execution_count": null,
   "metadata": {},
   "outputs": [],
   "source": []
  }
 ],
 "metadata": {
  "kernelspec": {
   "display_name": "base",
   "language": "python",
   "name": "python3"
  },
  "language_info": {
   "codemirror_mode": {
    "name": "ipython",
    "version": 3
   },
   "file_extension": ".py",
   "mimetype": "text/x-python",
   "name": "python",
   "nbconvert_exporter": "python",
   "pygments_lexer": "ipython3",
   "version": "3.10.13"
  },
  "orig_nbformat": 4
 },
 "nbformat": 4,
 "nbformat_minor": 2
}
