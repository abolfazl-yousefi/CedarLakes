{
 "cells": [
  {
   "cell_type": "code",
   "execution_count": 15,
   "metadata": {},
   "outputs": [],
   "source": [
    "import matplotlib.pyplot as plt\n",
    "import numpy as np\n",
    "import ptitprince as pt\n",
    "import numpy as np\n",
    "import seaborn as sns\n",
    "import pandas as pd\n",
    "\n",
    "\n",
    "plt.rcParams.update({\"font.size\": 16})\n"
   ]
  },
  {
   "cell_type": "code",
   "execution_count": 16,
   "metadata": {},
   "outputs": [],
   "source": [
    "rasters_dict = {\n",
    "    \"Clipped(2001)_meter.tif\": \"DEM 2001\",\n",
    "    \"Clipped(2002)_meter.tif\": \"DEM 2002\",\n",
    "    \"Clipped(2006)_meter.tif\": \"DEM 2006\",\n",
    "    \"Clipped(2009)_meter.tif\": \"DEM 2009\",\n",
    "    \"Clipped(2016)_meter.tif\": \"DEM 2016\",\n",
    "    \"Clipped(2018)_meter.tif\": \"DEM 2018\",\n",
    "    \"(Clipped)2018_19_post_harvey_meter.tif\": \"DEM 2018_19_post_harvey\",\n",
    "}\n",
    "\n",
    "\n",
    "def build_combined_df(rasters_dict):\n",
    "    combined_df = pd.DataFrame()\n",
    "    for file_path, dem_year in rasters_dict.items():\n",
    "        temp_df = pd.read_csv(\n",
    "            f\"Results/DuneFeatures_Width_Height_Slope/Data/duneCharacteristics_{dem_year.replace(' ', '_')}.csv\"\n",
    "        )\n",
    "        temp_df[\"DEM Year\"] = dem_year\n",
    "        combined_df = pd.concat([combined_df, temp_df], ignore_index=True)\n",
    "    return combined_df\n"
   ]
  },
  {
   "cell_type": "code",
   "execution_count": 17,
   "metadata": {},
   "outputs": [],
   "source": [
    "combined_df = build_combined_df(rasters_dict)\n"
   ]
  },
  {
   "cell_type": "code",
   "execution_count": 18,
   "metadata": {},
   "outputs": [],
   "source": [
    "combined_df.rename(\n",
    "    columns={\n",
    "        \"duneWidth\": \"Dune Width(m)\",\n",
    "        \"duneHeight\": \"Dune Height(m)\",\n",
    "        \"averageDuneSlope\": \"Average Dune Slope(°)\",\n",
    "        \"maxDuneSlope\": \"Max Dune Slope(°)\",\n",
    "        \"DEM Year\": \"DEM Year\",\n",
    "    },\n",
    "    inplace=True,\n",
    ")\n"
   ]
  },
  {
   "cell_type": "code",
   "execution_count": 19,
   "metadata": {},
   "outputs": [],
   "source": [
    "def plot_raincloud(\n",
    "    categorical_parameter, numerical_parameter, data, sigma=0.1, ort=\"h\", pal=\"Set2\", filename=\"raincloud_plot.png\"\n",
    "):\n",
    "    fig, ax = plt.subplots(figsize=(10, 10))\n",
    "    pt.RainCloud(\n",
    "        x=categorical_parameter,\n",
    "        y=numerical_parameter,\n",
    "        data=data,\n",
    "        bw=sigma,\n",
    "        width_viol=0.7,\n",
    "        width_box=0.15,\n",
    "        orient=ort,\n",
    "        move=0.0,\n",
    "        palette=pal,\n",
    "        pointplot=True,\n",
    "        point_size=0.01,\n",
    "        box_showfliers=True,\n",
    "        box_flierprops={'markerfacecolor':'r', 'marker':'o', 'markersize':3}\n",
    "    )\n",
    "    ax.set_title(f\"Raincloud Plot of {numerical_parameter} \")\n",
    "    ax.set_ylabel(\"\")\n",
    "    plt.tight_layout()\n",
    "    plt.savefig(filename)\n",
    "    plt.close()\n"
   ]
  },
  {
   "cell_type": "code",
   "execution_count": 20,
   "metadata": {},
   "outputs": [],
   "source": [
    "parameters = [\n",
    "    \"Dune Width(m)\",\n",
    "    \"Dune Height(m)\",\n",
    "    \"Average Dune Slope(°)\",\n",
    "    \"Max Dune Slope(°)\",\n",
    "]\n"
   ]
  },
  {
   "cell_type": "code",
   "execution_count": 21,
   "metadata": {},
   "outputs": [],
   "source": [
    "for parameter in parameters:\n",
    "    plot_raincloud(\n",
    "        categorical_parameter=\"DEM Year\",\n",
    "        numerical_parameter=parameter,\n",
    "        data=combined_df,\n",
    "        filename=f\"Results/DuneFeatures_Width_Height_Slope/{parameter}_raincloud_plot.png\",\n",
    "    )\n"
   ]
  },
  {
   "cell_type": "code",
   "execution_count": null,
   "metadata": {},
   "outputs": [],
   "source": []
  },
  {
   "cell_type": "code",
   "execution_count": null,
   "metadata": {},
   "outputs": [],
   "source": []
  }
 ],
 "metadata": {
  "kernelspec": {
   "display_name": "ptitprince",
   "language": "python",
   "name": "python3"
  },
  "language_info": {
   "codemirror_mode": {
    "name": "ipython",
    "version": 3
   },
   "file_extension": ".py",
   "mimetype": "text/x-python",
   "name": "python",
   "nbconvert_exporter": "python",
   "pygments_lexer": "ipython3",
   "version": "3.8.18"
  },
  "orig_nbformat": 4
 },
 "nbformat": 4,
 "nbformat_minor": 2
}
