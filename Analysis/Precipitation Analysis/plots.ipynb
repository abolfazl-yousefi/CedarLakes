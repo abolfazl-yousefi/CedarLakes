{
 "cells": [
  {
   "cell_type": "code",
   "execution_count": 1,
   "metadata": {},
   "outputs": [],
   "source": [
    "import matplotlib.pyplot as plt\n",
    "import numpy as np\n",
    "import ptitprince as pt\n",
    "import numpy as np\n",
    "import seaborn as sns\n",
    "import pandas as pd\n",
    "import os\n",
    "\n",
    "plt.rcParams.update({\"font.size\": 16})\n"
   ]
  },
  {
   "cell_type": "code",
   "execution_count": 2,
   "metadata": {},
   "outputs": [],
   "source": [
    "def read_water_gage_station(filename):\n",
    "    df = pd.read_csv(\n",
    "        filename,\n",
    "        index_col=\"time\",\n",
    "    )\n",
    "    return df\n",
    "\n",
    "\n",
    "MeteostatStationLNFT5 = read_water_gage_station(\"Meteostat_LNFT5.csv\")\n",
    "MeteostatStationKBYY0 = read_water_gage_station(\"Meteostat_KBYY0.csv\")\n",
    "MeteostatStationKLBX0 = read_water_gage_station(\"Meteostat_KLBX0.csv\")\n"
   ]
  },
  {
   "cell_type": "code",
   "execution_count": 3,
   "metadata": {},
   "outputs": [],
   "source": [
    "datasets = {\n",
    "    \"Station LNFT5\": MeteostatStationLNFT5,\n",
    "    \"Station KBYY0\": MeteostatStationKBYY0,\n",
    "    \"Station KLBX0\": MeteostatStationKLBX0,\n",
    "}\n"
   ]
  },
  {
   "cell_type": "code",
   "execution_count": 4,
   "metadata": {},
   "outputs": [],
   "source": [
    "parameters = [\n",
    "    \"Air Temperature (°C)\",\n",
    "    \"Dew Point (°C)\",\n",
    "    \"Relative Humidity (%)\",\n",
    "    \"Total Precipitation (mm)\",\n",
    "    \"Wind (From) Direction (Degrees)\",\n",
    "    \"Average Wind Speed (m/s)\",\n",
    "    \"Sea-Level Air Pressure (hPa)\",\n",
    "]\n"
   ]
  },
  {
   "cell_type": "code",
   "execution_count": 5,
   "metadata": {},
   "outputs": [],
   "source": [
    "month_map = {\n",
    "    1: \"January\",\n",
    "    2: \"February\",\n",
    "    3: \"March\",\n",
    "    4: \"April\",\n",
    "    5: \"May\",\n",
    "    6: \"June\",\n",
    "    7: \"July\",\n",
    "    8: \"August\",\n",
    "    9: \"September\",\n",
    "    10: \"October\",\n",
    "    11: \"November\",\n",
    "    12: \"December\",\n",
    "}\n",
    "\n",
    "month_order = [\n",
    "    \"January\",\n",
    "    \"February\",\n",
    "    \"March\",\n",
    "    \"April\",\n",
    "    \"May\",\n",
    "    \"June\",\n",
    "    \"July\",\n",
    "    \"August\",\n",
    "    \"September\",\n",
    "    \"October\",\n",
    "    \"November\",\n",
    "    \"December\",\n",
    "]\n",
    "\n",
    "rename_columns = {\n",
    "    \"air_temperature\": \"Air Temperature (°C)\",\n",
    "    \"dewpoint\": \"Dew Point (°C)\",\n",
    "    \"relative_humidity\": \"Relative Humidity (%)\",\n",
    "    \"total_precipitation\": \"Total Precipitation (mm)\",\n",
    "    \"snow_depth\": \"Snow Depth (m)\",\n",
    "    \"wind_direction\": \"Wind (From) Direction (Degrees)\",\n",
    "    \"average_wind_speed\": \"Average Wind Speed (km/h)\",\n",
    "    \"wind_peak_gust\": \"Wind Peak Gust (km/h)\",\n",
    "    \"sea_level_air_pressure\": \"Sea-Level Air Pressure (hPa)\",\n",
    "    \"total_sunshine_duration\": \"Total Sunshine Duration (Minutes)\",\n",
    "    \"weather_condition_code\": \"Weather Condition Code\",\n",
    "}\n"
   ]
  },
  {
   "cell_type": "code",
   "execution_count": 6,
   "metadata": {},
   "outputs": [],
   "source": [
    "for dataset_name, df in datasets.items():\n",
    "    df.rename(columns=rename_columns, inplace=True)\n",
    "    for col in rename_columns.values():\n",
    "        df[col] = pd.to_numeric(df[col], errors=\"coerce\")\n",
    "\n",
    "    df.index = pd.to_datetime(df.index)\n",
    "    df.insert(0, \"Year\", df.index.year)\n",
    "    df.insert(1, \"Month\", df.index.month)\n",
    "    df[\"Month\"] = df[\"Month\"].map(month_map)\n",
    "    df[\"Month\"] = pd.Categorical(df[\"Month\"], categories=month_order, ordered=True)\n",
    "    df[\"Year\"] = pd.Categorical(df[\"Year\"])\n",
    "    df[\"Average Wind Speed (km/h)\"] = df[\"Average Wind Speed (km/h)\"] * 1000 / 3600\n",
    "    df.rename(\n",
    "        columns={\"Average Wind Speed (km/h)\": \"Average Wind Speed (m/s)\"}, inplace=True\n",
    "    )\n",
    "\n",
    "    datasets[dataset_name] = df\n"
   ]
  },
  {
   "cell_type": "code",
   "execution_count": 7,
   "metadata": {},
   "outputs": [],
   "source": [
    "def create_directory_for_plots(dataset_name, categorical_parameter):\n",
    "    base_directory_path = \"Results/Plots\"\n",
    "    if categorical_parameter == \"Month\":\n",
    "        directory = os.path.join(base_directory_path, dataset_name, \"monthly\")\n",
    "    if categorical_parameter == \"Year\":\n",
    "        directory = os.path.join(base_directory_path, dataset_name, \"yearly\")\n",
    "    os.makedirs(directory, exist_ok=True)\n",
    "    return directory\n",
    "\n",
    "\n",
    "def generate_filenames(numerical_parameter, categorical_parameter, directory):\n",
    "    if categorical_parameter == \"Year\":\n",
    "        filename = (\n",
    "            f\"{directory}/{numerical_parameter}_yearly_raincloud_plot.png\".replace(\n",
    "                \"(m/s)\", \"mـs\"\n",
    "            )\n",
    "            .replace(\"(km/h)\", \"kmh\")\n",
    "            .replace(\"(m/s)\", \"m_s\")\n",
    "        )\n",
    "    if categorical_parameter == \"Month\":\n",
    "        filename = (\n",
    "            f\"{directory}/{numerical_parameter}_monthly_raincloud_plot.png\".replace(\n",
    "                \"(m/s)\", \"mـs\"\n",
    "            )\n",
    "            .replace(\"(km/h)\", \"kmh\")\n",
    "            .replace(\"(m/s)\", \"m_s\")\n",
    "        )\n",
    "    return filename\n"
   ]
  },
  {
   "cell_type": "code",
   "execution_count": 8,
   "metadata": {},
   "outputs": [],
   "source": [
    "def clean_data(df, numerical_parameter):\n",
    "    df = df.dropna(subset=[numerical_parameter])\n",
    "    return df"
   ]
  },
  {
   "cell_type": "code",
   "execution_count": 9,
   "metadata": {},
   "outputs": [],
   "source": [
    "def plot_raincloud(\n",
    "    categorical_parameter,\n",
    "    numerical_parameter,\n",
    "    df,\n",
    "    sigma=0.1,\n",
    "    ort=\"h\",\n",
    "    pal=\"Set2\",\n",
    "    filename=\"raincloud_plot.png\",\n",
    "):\n",
    "    \n",
    "    df = clean_data(df, numerical_parameter)\n",
    "    fig, ax = plt.subplots(figsize=(10, 10))\n",
    "    pt.RainCloud(\n",
    "        x=categorical_parameter,\n",
    "        y=numerical_parameter,\n",
    "        data=df,\n",
    "        bw=sigma,\n",
    "        width_viol=0.7,\n",
    "        width_box=0.15,\n",
    "        orient=ort,\n",
    "        move=0.0,\n",
    "        palette=pal,\n",
    "        pointplot=True,\n",
    "        point_size=0.01,\n",
    "        box_showfliers=True,\n",
    "        box_flierprops={\"markerfacecolor\": \"r\", \"marker\": \"o\", \"markersize\": 3},\n",
    "    )\n",
    "\n",
    "    ax.set_title(f\"Raincloud Plot of {numerical_parameter} \")\n",
    "    ax.set_ylabel(\"\")\n",
    "    plt.tight_layout()\n",
    "    plt.savefig(filename)\n",
    "    plt.close()\n"
   ]
  },
  {
   "cell_type": "code",
   "execution_count": 10,
   "metadata": {},
   "outputs": [],
   "source": [
    "def process_datasets_and_plot(datasets, parameters):\n",
    "    for dataset_name, df in datasets.items():\n",
    "        print(dataset_name)\n",
    "        for numerical_parameter in parameters:\n",
    "            for categorical_parameter in ['Month', 'Year']:\n",
    "                directory = create_directory_for_plots(dataset_name, categorical_parameter)\n",
    "                filename = generate_filenames(numerical_parameter, categorical_parameter ,directory)\n",
    "                plot_raincloud(\n",
    "                    categorical_parameter, numerical_parameter, df, sigma=0.1, ort=\"h\", pal=\"Set2\", filename=filename\n",
    "                )\n",
    "        "
   ]
  },
  {
   "cell_type": "code",
   "execution_count": 11,
   "metadata": {},
   "outputs": [
    {
     "name": "stdout",
     "output_type": "stream",
     "text": [
      "Station LNFT5\n",
      "Station KBYY0\n",
      "Station KLBX0\n"
     ]
    }
   ],
   "source": [
    "process_datasets_and_plot(datasets, parameters)\n"
   ]
  }
 ],
 "metadata": {
  "kernelspec": {
   "display_name": "ptitprince",
   "language": "python",
   "name": "python3"
  },
  "language_info": {
   "codemirror_mode": {
    "name": "ipython",
    "version": 3
   },
   "file_extension": ".py",
   "mimetype": "text/x-python",
   "name": "python",
   "nbconvert_exporter": "python",
   "pygments_lexer": "ipython3",
   "version": "3.8.18"
  },
  "orig_nbformat": 4
 },
 "nbformat": 4,
 "nbformat_minor": 2
}
