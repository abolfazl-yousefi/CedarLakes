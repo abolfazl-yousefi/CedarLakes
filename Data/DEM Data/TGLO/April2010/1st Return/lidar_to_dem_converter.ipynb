{
 "cells": [
  {
   "cell_type": "code",
   "execution_count": 11,
   "metadata": {},
   "outputs": [],
   "source": [
    "import os\n",
    "import laspy\n",
    "import numpy as np\n",
    "from osgeo import gdal, osr, gdal_array\n",
    "\n",
    "def convert_las_to_tif(las_directory, grid_size_meters=5):\n",
    "    for file in os.listdir(las_directory):\n",
    "        if file.endswith('.las'):\n",
    "            las_file = os.path.join(las_directory, file)\n",
    "            tif_file = os.path.join(las_directory, os.path.splitext(file)[0] + '.tif')\n",
    "            print(file)\n",
    "\n",
    "            # Read LAS file\n",
    "            las = laspy.read(las_file)\n",
    "\n",
    "            # Convert grid size to feet\n",
    "            grid_size_feet = grid_size_meters * 3.28084 \n",
    "\n",
    "            # Extract coordinates and create grid\n",
    "            min_x, max_x = np.floor(np.min(las.x)), np.ceil(np.max(las.x))\n",
    "            min_y, max_y = np.floor(np.min(las.y)), np.ceil(np.max(las.y))\n",
    "            x_grid = np.arange(min_x, max_x, grid_size_feet)\n",
    "            y_grid = np.arange(min_y, max_y, grid_size_feet)\n",
    "            grid_x, grid_y = np.meshgrid(x_grid, y_grid)\n",
    "\n",
    "            # Digitize points\n",
    "            x_idx = np.digitize(las.x, x_grid) - 1\n",
    "            y_idx = np.digitize(las.y, y_grid) - 1\n",
    "\n",
    "            # Create DEM\n",
    "            dem = np.full(grid_x.shape, np.nan)\n",
    "            dem[y_idx, x_idx] = las.z * 3.28084  # Convert from meters to feet\n",
    "            dem = np.flipud(dem)\n",
    "\n",
    "            # Fill no data values\n",
    "            dem = np.where(np.isnan(dem), np.nanmin(dem), dem)\n",
    "\n",
    "            # Create GDAL dataset\n",
    "            driver = gdal.GetDriverByName('GTiff')\n",
    "            out_raster = driver.Create(tif_file, dem.shape[1], dem.shape[0], 1, gdal.GDT_Float32)\n",
    "            out_raster.SetGeoTransform((min_x, grid_size_feet, 0, max_y, 0, -grid_size_feet))\n",
    "            srs = osr.SpatialReference()\n",
    "            srs.ImportFromEPSG(26915)\n",
    "            out_raster.SetProjection(srs.ExportToWkt())\n",
    "\n",
    "            # Write data\n",
    "            out_band = out_raster.GetRasterBand(1)\n",
    "            out_band.WriteArray(dem)\n",
    "            out_band.SetNoDataValue(np.nan)\n",
    "\n",
    "            # Close file\n",
    "            out_raster = None\n",
    "\n",
    "# Usage\n",
    "las_directory = '/Volumes/CedarLakes/Cedar Lakes Data/TGLO/Lidar_Request'\n",
    "convert_las_to_tif(las_directory)\n"
   ]
  },
  {
   "cell_type": "code",
   "execution_count": null,
   "metadata": {},
   "outputs": [],
   "source": []
  }
 ],
 "metadata": {
  "kernelspec": {
   "display_name": "base",
   "language": "python",
   "name": "python3"
  },
  "language_info": {
   "codemirror_mode": {
    "name": "ipython",
    "version": 3
   },
   "file_extension": ".py",
   "mimetype": "text/x-python",
   "name": "python",
   "nbconvert_exporter": "python",
   "pygments_lexer": "ipython3",
   "version": "3.10.13"
  },
  "orig_nbformat": 4
 },
 "nbformat": 4,
 "nbformat_minor": 2
}
