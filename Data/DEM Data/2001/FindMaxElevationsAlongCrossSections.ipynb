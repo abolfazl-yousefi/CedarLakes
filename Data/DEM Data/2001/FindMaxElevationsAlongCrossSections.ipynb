{
 "cells": [
  {
   "cell_type": "code",
   "execution_count": 1,
   "metadata": {},
   "outputs": [],
   "source": [
    "from rasterio.warp import reproject, Resampling\n",
    "import rasterio as rio\n",
    "from affine import Affine\n",
    "import numpy as np\n",
    "\n",
    "import matplotlib.pyplot as plt\n",
    "import rasterio as rio\n",
    "\n",
    "import rasterio as rio\n",
    "import numpy as np\n",
    "import json\n",
    "\n"
   ]
  },
  {
   "cell_type": "code",
   "execution_count": 2,
   "metadata": {},
   "outputs": [],
   "source": [
    "def rotate_raster(in_file,out_file, angle, shift_x=0, shift_y=0,adj_width=0, adj_height=0):\n",
    "    \"\"\"Rotate a raster image and save it to disk.\n",
    "            in_file: path to input raster file\n",
    "            out_file: path to output raster file\n",
    "            angle: angle of rotation in degrees\n",
    "            shift_x: shift in x direction\n",
    "            shift_y: shift in y direction\n",
    "            adj_width: adjust width of output raster\n",
    "            adj_height: adjust height of output raster\"\"\"\n",
    "\n",
    "    with rio.open(in_file) as src:\n",
    "\n",
    "        # Get the old transform and crs\n",
    "        src_transform = src.transform \n",
    "        crs = src.crs\n",
    "\n",
    "        # Affine transformations for rotation and translation\n",
    "        rotate = Affine.rotation(angle)\n",
    "        trans_x = Affine.translation(shift_x,0)\n",
    "        trans_y = Affine.translation(0, -shift_y)\n",
    "\n",
    "        # Combine affine transformations\n",
    "        dst_transform = src_transform * rotate * trans_x * trans_y\n",
    "\n",
    "        # Get band data\n",
    "        band = np.array(src.read(1))\n",
    "\n",
    "        # Get the new shape\n",
    "        y,x = band.shape\n",
    "        dst_height = y + adj_height\n",
    "        dst_width = x + adj_width\n",
    "\n",
    "        # set properties for output\n",
    "        dst_kwargs = src.meta.copy()\n",
    "        dst_kwargs.update(\n",
    "            {\n",
    "                \"transform\": dst_transform,\n",
    "                \"height\": dst_height,\n",
    "                \"width\": dst_width,\n",
    "                \"nodata\": 0,  \n",
    "            }\n",
    "        )\n",
    "\n",
    "        # write to disk\n",
    "        with rio.open(out_file, \"w\", **dst_kwargs) as dst:\n",
    "            # reproject to new CRS\n",
    "\n",
    "            reproject(source=band,\n",
    "                        destination=rio.band(dst, 1),\n",
    "                        src_transform=src_transform,\n",
    "                        src_crs=crs,\n",
    "                        dst_transform=dst_transform,\n",
    "                        dst_crs=crs,\n",
    "                        resampling=Resampling.nearest)"
   ]
  },
  {
   "cell_type": "code",
   "execution_count": 3,
   "metadata": {},
   "outputs": [],
   "source": [
    "in_file = \"Clipped(2001)_meter.tif\"\n",
    "out_file = in_file.replace(\".tif\", \"_rotated.tif\")\n",
    "output_geojson_path = \"max_elevations_2001.geojson\""
   ]
  },
  {
   "cell_type": "code",
   "execution_count": 4,
   "metadata": {},
   "outputs": [
    {
     "name": "stdout",
     "output_type": "stream",
     "text": [
      "(3810, 4042)\n"
     ]
    },
    {
     "data": {
      "image/png": "[encoded data removed]",
      "text/plain": [
       "<Figure size 1000x1000 with 1 Axes>"
      ]
     },
     "metadata": {},
     "output_type": "display_data"
    }
   ],
   "source": [
    "\n",
    "\n",
    "\n",
    "\n",
    "rotate_raster(in_file,out_file, angle=-31, shift_x=-1500, shift_y=0, adj_width=2000, adj_height=2000)\n",
    "\n",
    "# Open the red band (B4):\n",
    "\n",
    "src = rio.open(out_file)\n",
    "# Get the old transform and crs\n",
    "src_transform = src.transform \n",
    "crs = src.crs\n",
    "band1 = src.read(1)\n",
    "\n",
    "print(src.shape)\n",
    "\n",
    "# Display the band\n",
    "fig, ax = plt.subplots(figsize=(10, 10))\n",
    "ax.imshow(src.read(1), cmap='pink')\n",
    "\n",
    "ax.set_axis_off()\n",
    "\n"
   ]
  },
  {
   "cell_type": "code",
   "execution_count": 5,
   "metadata": {},
   "outputs": [],
   "source": [
    "\n",
    "\n",
    "\n",
    "def process_rotated_raster(rotated_file, output_geojson_path):\n",
    "    geojson_features = []\n",
    "\n",
    "    with rio.open(rotated_file) as src:\n",
    "        # Use the updated transform from the rotated raster\n",
    "        updated_transform = src.transform\n",
    "\n",
    "        band1 = src.read(1)\n",
    "\n",
    "        for x in range(band1.shape[1]):\n",
    "            max_value = np.max(band1[:, x])\n",
    "            y = np.argmax(band1[:, x])\n",
    "            \n",
    "\n",
    "            if max_value == 0 and y == 0:\n",
    "                continue\n",
    "            \n",
    "            if -3.4028235e+38 < -10 and y == 0:\n",
    "                continue\n",
    "\n",
    "            # Calculate lon, lat using the updated transform\n",
    "            lon, lat = updated_transform * (x, y)\n",
    "\n",
    "            feature = {\n",
    "                \"type\": \"Feature\",\n",
    "                \"properties\": {\"elevation\": float(max_value)},\n",
    "                \"geometry\": {\n",
    "                    \"type\": \"Point\",\n",
    "                    \"coordinates\": [lon, lat]\n",
    "                }\n",
    "            }\n",
    "            geojson_features.append(feature)\n",
    "\n",
    "        if not geojson_features:\n",
    "            print(\"No valid features found\")\n",
    "        else:\n",
    "            geojson_data = {\n",
    "                \"type\": \"FeatureCollection\",\n",
    "                \"features\": geojson_features\n",
    "            }\n",
    "\n",
    "            with open(output_geojson_path, 'w') as f:\n",
    "                json.dump(geojson_data, f)\n",
    "\n",
    "# Example usage\n",
    "\n",
    "\n",
    "\n",
    "\n"
   ]
  },
  {
   "cell_type": "code",
   "execution_count": 6,
   "metadata": {},
   "outputs": [],
   "source": [
    "# rotate_raster(in_file,out_file, angle=-31, shift_x=-1500, shift_y=0, adj_width=2000, adj_height=2000)\n",
    "\n",
    "# Process the rotated raster\n",
    "process_rotated_raster(out_file, output_geojson_path)"
   ]
  },
  {
   "cell_type": "code",
   "execution_count": null,
   "metadata": {},
   "outputs": [],
   "source": []
  }
 ],
 "metadata": {
  "kernelspec": {
   "display_name": "base",
   "language": "python",
   "name": "python3"
  },
  "language_info": {
   "codemirror_mode": {
    "name": "ipython",
    "version": 3
   },
   "file_extension": ".py",
   "mimetype": "text/x-python",
   "name": "python",
   "nbconvert_exporter": "python",
   "pygments_lexer": "ipython3",
   "version": "3.10.13"
  },
  "orig_nbformat": 4
 },
 "nbformat": 4,
 "nbformat_minor": 2
}
