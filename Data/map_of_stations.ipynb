{
 "cells": [
  {
   "cell_type": "code",
   "execution_count": 1,
   "metadata": {},
   "outputs": [
    {
     "ename": "ModuleNotFoundError",
     "evalue": "No module named 'geoplotlib'",
     "output_type": "error",
     "traceback": [
      "\u001b[0;31m---------------------------------------------------------------------------\u001b[0m",
      "\u001b[0;31mModuleNotFoundError\u001b[0m                       Traceback (most recent call last)",
      "Cell \u001b[0;32mIn[1], line 11\u001b[0m\n\u001b[1;32m      8\u001b[0m \u001b[39m# Merge the dataframes\u001b[39;00m\n\u001b[1;32m      9\u001b[0m all_stations_df \u001b[39m=\u001b[39m pd\u001b[39m.\u001b[39mconcat([meteostat_df, ndbc_df, water_gauge_df], ignore_index\u001b[39m=\u001b[39m\u001b[39mTrue\u001b[39;00m)\n\u001b[0;32m---> 11\u001b[0m \u001b[39mimport\u001b[39;00m \u001b[39mgeoplotlib\u001b[39;00m\n\u001b[1;32m     12\u001b[0m \u001b[39mfrom\u001b[39;00m \u001b[39mgeoplotlib\u001b[39;00m\u001b[39m.\u001b[39;00m\u001b[39mutils\u001b[39;00m \u001b[39mimport\u001b[39;00m BoundingBox\n\u001b[1;32m     13\u001b[0m \u001b[39mimport\u001b[39;00m \u001b[39mpandas\u001b[39;00m \u001b[39mas\u001b[39;00m \u001b[39mpd\u001b[39;00m\n",
      "\u001b[0;31mModuleNotFoundError\u001b[0m: No module named 'geoplotlib'"
     ]
    }
   ],
   "source": [
    "import pandas as pd\n",
    "\n",
    "# Load the CSV files\n",
    "meteostat_df = pd.read_csv('meteostat_station_data.csv')\n",
    "ndbc_df = pd.read_csv('NDBC_station_data.csv')\n",
    "water_gauge_df = pd.read_csv('Water Gague_station_data.csv')\n",
    "\n",
    "# Merge the dataframes\n",
    "all_stations_df = pd.concat([meteostat_df, ndbc_df, water_gauge_df], ignore_index=True)\n",
    "\n",
    "import geoplotlib\n",
    "from geoplotlib.utils import BoundingBox\n",
    "import pandas as pd\n",
    "\n",
    "# Assuming all_stations_df is your merged DataFrame\n",
    "# For demonstration, you would replace this with the actual reading of your CSV files\n",
    "# all_stations_df = pd.concat([meteostat_df, ndbc_df, water_gauge_df], ignore_index=True)\n",
    "\n",
    "# Define a custom layer for drawing the bounding box\n",
    "class BBoxLayer(geoplotlib.layers.BaseLayer):\n",
    "    def __init__(self, bbox_geojson):\n",
    "        self.bbox_geojson = bbox_geojson\n",
    "\n",
    "    def invalidate(self, proj):\n",
    "        self.x, self.y = proj.lonlat_to_screen(\n",
    "            [pt[0] for pt in self.bbox_geojson['coordinates'][0]],\n",
    "            [pt[1] for pt in self.bbox_geojson['coordinates'][0]]\n",
    "        )\n",
    "\n",
    "    def draw(self, proj, mouse_x, mouse_y, ui_manager):\n",
    "        geoplotlib.draw_polygon(self.x, self.y, color=[255, 0, 0, 255])\n",
    "\n",
    "# Plotting\n",
    "bbox_geojson = {\n",
    "    \"type\": \"Polygon\",\n",
    "    \"coordinates\": [\n",
    "        [\n",
    "            [-95.514107383931105, 28.837294991608498],\n",
    "            [-95.542191067157702, 28.82310160914],\n",
    "            [-95.533023536824004, 28.807894014576299],\n",
    "            [-95.5039012207138, 28.822751403692301], \n",
    "            [-95.514107383931105, 28.837294991608498]\n",
    "        ]\n",
    "    ]\n",
    "}\n",
    "\n",
    "geoplotlib.dot(all_stations_df, f_tooltip=lambda r: r['station_id'])\n",
    "geoplotlib.add_layer(BBoxLayer(bbox_geojson))\n",
    "geoplotlib.show()\n"
   ]
  },
  {
   "cell_type": "code",
   "execution_count": 2,
   "metadata": {},
   "outputs": [
    {
     "name": "stdout",
     "output_type": "stream",
     "text": [
      "Collecting geoplotlib\n",
      "  Downloading geoplotlib-0.3.2.tar.gz\n",
      "\u001b[2K     \u001b[32m-\u001b[0m \u001b[32m22.0 kB\u001b[0m \u001b[31m6.4 MB/s\u001b[0m \u001b[33m0:00:00\u001b[0m\n",
      "\u001b[?25h  Preparing metadata (setup.py) ... \u001b[?25lerror\n",
      "  \u001b[1;31merror\u001b[0m: \u001b[1msubprocess-exited-with-error\u001b[0m\n",
      "  \n",
      "  \u001b[31m×\u001b[0m \u001b[32mpython setup.py egg_info\u001b[0m did not run successfully.\n",
      "  \u001b[31m│\u001b[0m exit code: \u001b[1;36m1\u001b[0m\n",
      "  \u001b[31m╰─>\u001b[0m \u001b[31m[1 lines of output]\u001b[0m\n",
      "  \u001b[31m   \u001b[0m error in geoplotlib setup command: use_2to3 is invalid.\n",
      "  \u001b[31m   \u001b[0m \u001b[31m[end of output]\u001b[0m\n",
      "  \n",
      "  \u001b[1;35mnote\u001b[0m: This error originates from a subprocess, and is likely not a problem with pip.\n",
      "\u001b[?25h\u001b[1;31merror\u001b[0m: \u001b[1mmetadata-generation-failed\u001b[0m\n",
      "\n",
      "\u001b[31m×\u001b[0m Encountered error while generating package metadata.\n",
      "\u001b[31m╰─>\u001b[0m See above for output.\n",
      "\n",
      "\u001b[1;35mnote\u001b[0m: This is an issue with the package mentioned above, not pip.\n",
      "\u001b[1;36mhint\u001b[0m: See above for details.\n",
      "\n",
      "\u001b[1m[\u001b[0m\u001b[34;49mnotice\u001b[0m\u001b[1;39;49m]\u001b[0m\u001b[39;49m A new release of pip is available: \u001b[0m\u001b[31;49m23.3.2\u001b[0m\u001b[39;49m -> \u001b[0m\u001b[32;49m24.0\u001b[0m\n",
      "\u001b[1m[\u001b[0m\u001b[34;49mnotice\u001b[0m\u001b[1;39;49m]\u001b[0m\u001b[39;49m To update, run: \u001b[0m\u001b[32;49mpip install --upgrade pip\u001b[0m\n"
     ]
    }
   ],
   "source": [
    "!pip install geoplotlib"
   ]
  },
  {
   "cell_type": "code",
   "execution_count": null,
   "metadata": {},
   "outputs": [],
   "source": []
  }
 ],
 "metadata": {
  "kernelspec": {
   "display_name": "base",
   "language": "python",
   "name": "python3"
  },
  "language_info": {
   "codemirror_mode": {
    "name": "ipython",
    "version": 3
   },
   "file_extension": ".py",
   "mimetype": "text/x-python",
   "name": "python",
   "nbconvert_exporter": "python",
   "pygments_lexer": "ipython3",
   "version": "3.10.13"
  },
  "orig_nbformat": 4
 },
 "nbformat": 4,
 "nbformat_minor": 2
}
